{
  "nbformat": 4,
  "nbformat_minor": 0,
  "metadata": {
    "colab": {
      "provenance": [],
      "authorship_tag": "ABX9TyMfiDCUce6adlZ7Rcm/XCMn",
      "include_colab_link": true
    },
    "kernelspec": {
      "name": "python3",
      "display_name": "Python 3"
    },
    "language_info": {
      "name": "python"
    }
  },
  "cells": [
    {
      "cell_type": "markdown",
      "metadata": {
        "id": "view-in-github",
        "colab_type": "text"
      },
      "source": [
        "<a href=\"https://colab.research.google.com/github/kabarrantes/vds_m1_final/blob/main/Caso_Practico_2.ipynb\" target=\"_parent\"><img src=\"https://colab.research.google.com/assets/colab-badge.svg\" alt=\"Open In Colab\"/></a>"
      ]
    },
    {
      "cell_type": "code",
      "execution_count": null,
      "metadata": {
        "id": "-rG7P8iRuPRm"
      },
      "outputs": [],
      "source": [
        "destino = int(input(\"Introduce un parametro, por favor \" +\n",
        "             \"selecciona entre las siguientes opciones \" +\n",
        "             \"\\n 1.) Pasar a minutos \" +\n",
        "             \"\\n 2.)Pasar a horas \" + \n",
        "              \"\\n 3.)Pasar a dias \" + \n",
        "              \"\\n 4.)Pasar a segundos  \\n\"))\n",
        "\n",
        "if destino == 1:\n",
        "  segundos=-1\n",
        "  while 0 > segundos:\n",
        "      segundos = int(input(\"Introduce los segundos positivos: \"))\n",
        "  segundos_a_minutos = segundos // 60\n",
        "  print(segundos, \"segundos equivalen a\",segundos_a_minutos, \"minutos\")\n",
        "\n",
        "elif destino == 2:\n",
        "  segundos=-1\n",
        "  while 0 > segundos:\n",
        "      segundos = int(input(\"Introduce los segundos positivos: \"))\n",
        "  segundos_a_horas = segundos // 3600\n",
        "  print(segundos, \"segundos equivalen a\",segundos_a_horas, \"horas\")\n",
        "\n",
        "elif destino == 3:\n",
        "  segundos=-1\n",
        "  while 0 > segundos:\n",
        "      segundos = int(input(\"Introduce los segundos positivos: \"))\n",
        "  segundos_a_dias = segundos // (3600*24)\n",
        "  print(segundos, \"segundos equivalen a\",segundos_a_dias, \"dias\")\n",
        "\n",
        "elif destino == 4:\n",
        "  segundos=-1\n",
        "  while 0 > segundos:\n",
        "      segundos = int(input(\"Introduce los segundos positivos: \"))\n",
        "  segundos_a_segundos = segundos // 1\n",
        "  print(segundos, \"segundos equivalen a\",segundos_a_segundos, \"segundos\")\n"
      ]
    },
    {
      "cell_type": "code",
      "source": [],
      "metadata": {
        "id": "XgHKQ8-FugKq"
      },
      "execution_count": null,
      "outputs": []
    }
  ]
}